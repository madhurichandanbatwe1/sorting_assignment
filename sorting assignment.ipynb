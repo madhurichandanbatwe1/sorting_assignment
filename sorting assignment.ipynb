{
 "cells": [
  {
   "cell_type": "markdown",
   "id": "66e2d703-e52e-4c04-9d3b-a486fcd1eb52",
   "metadata": {},
   "source": [
    "Problem 1.Given an array of n numbers, give an algorithm which gives the element appearing maximum \n",
    "number of times"
   ]
  },
  {
   "cell_type": "code",
   "execution_count": 2,
   "id": "25c6e0d1-4851-4d8d-8f37-1fc35d836832",
   "metadata": {},
   "outputs": [
    {
     "name": "stdout",
     "output_type": "stream",
     "text": [
      "3\n"
     ]
    }
   ],
   "source": [
    "from collections import Counter\n",
    "\n",
    "def find_max_occurrence_element(arr):\n",
    "    count = Counter(arr)\n",
    "    return max(count, key=count.get)\n",
    "\n",
    "# Example usage\n",
    "arr = [1, 2, 3, 2, 3, 3, 4]\n",
    "print(find_max_occurrence_element(arr))  # Output: 3\n"
   ]
  },
  {
   "cell_type": "markdown",
   "id": "a89bf624-1ce2-4528-bc11-c59bb2e04512",
   "metadata": {},
   "source": [
    "Problem 2 : We are given a list of n-1 integers and these integers are in the range of 1 to n . There are no \n",
    "duplicates in the list. One of the integers is missing in the list. Give an algorithm to find that element Ex: \n",
    "[1,2,4,6,3,7,8] 5 is the missing num"
   ]
  },
  {
   "cell_type": "code",
   "execution_count": 3,
   "id": "dde399b0-584e-4c65-aeff-f411427f5952",
   "metadata": {},
   "outputs": [
    {
     "name": "stdout",
     "output_type": "stream",
     "text": [
      "5\n"
     ]
    }
   ],
   "source": [
    "def find_missing_number(arr, n):\n",
    "    total_sum = n * (n + 1) // 2\n",
    "    array_sum = sum(arr)\n",
    "    return total_sum - array_sum\n",
    "\n",
    "# Example usage\n",
    "arr = [1, 2, 4, 6, 3, 7, 8]\n",
    "n = 8\n",
    "print(find_missing_number(arr, n))  # Output: 5\n"
   ]
  },
  {
   "cell_type": "markdown",
   "id": "4beff5ff-c39f-4a10-a1af-6737e3c3d293",
   "metadata": {},
   "source": [
    "Problem 3 : Given an array of n positive numbers. All numbers occurs even number of times except 1 which \n",
    "occurs odd number of times. Find that number in O(n) time and O(1) space. Ex: [1,2,3,2,3,1,3]. 3 is repeats odd \n",
    "times."
   ]
  },
  {
   "cell_type": "code",
   "execution_count": 4,
   "id": "95ff417c-9a0c-4b08-9cae-7436664e9e5c",
   "metadata": {},
   "outputs": [
    {
     "name": "stdout",
     "output_type": "stream",
     "text": [
      "3\n"
     ]
    }
   ],
   "source": [
    "def find_odd_occurrence(arr):\n",
    "    result = 0\n",
    "    for num in arr:\n",
    "        result ^= num\n",
    "    return result\n",
    "\n",
    "# Example usage\n",
    "arr = [1, 2, 3, 2, 3, 1, 3]\n",
    "print(find_odd_occurrence(arr))  # Output: 3\n"
   ]
  },
  {
   "cell_type": "markdown",
   "id": "228bdb0a-4389-4f8a-a349-4d45452d2ae0",
   "metadata": {},
   "source": [
    "Problem 4 : Given an array of n elements. Find two elements in the array such that their sum is equal to given \n",
    "element K"
   ]
  },
  {
   "cell_type": "code",
   "execution_count": 5,
   "id": "f653df05-3275-4614-aa49-007a65a5b4a0",
   "metadata": {},
   "outputs": [
    {
     "name": "stdout",
     "output_type": "stream",
     "text": [
      "(4, 6)\n"
     ]
    }
   ],
   "source": [
    "def find_pair_with_sum(arr, K):\n",
    "    seen = set()\n",
    "    for num in arr:\n",
    "        if K - num in seen:\n",
    "            return (K - num, num)\n",
    "        seen.add(num)\n",
    "    return None\n",
    "\n",
    "# Example usage\n",
    "arr = [1, 4, 6, 7, 8]\n",
    "K = 10\n",
    "print(find_pair_with_sum(arr, K))  # Output: (4, 6)\n"
   ]
  },
  {
   "cell_type": "markdown",
   "id": "ab120263-5fcd-4956-87d5-b99a1799bf60",
   "metadata": {},
   "source": [
    "Problem 5 : Given an array of both positive and negative numbers, find two numbers such that their sum is \n",
    "closest to 0. Ex: [ 1 ,60 ,-10, 70, -80,85]. Ans : -80,85"
   ]
  },
  {
   "cell_type": "code",
   "execution_count": 6,
   "id": "4791e709-983d-4dd2-920d-6886c1274335",
   "metadata": {},
   "outputs": [
    {
     "name": "stdout",
     "output_type": "stream",
     "text": [
      "(-80, 85)\n"
     ]
    }
   ],
   "source": [
    "def closest_pair_to_zero(arr):\n",
    "    arr.sort()\n",
    "    left, right = 0, len(arr) - 1\n",
    "    min_sum = float('inf')\n",
    "    best_pair = (None, None)\n",
    "    \n",
    "    while left < right:\n",
    "        current_sum = arr[left] + arr[right]\n",
    "        if abs(current_sum) < abs(min_sum):\n",
    "            min_sum = current_sum\n",
    "            best_pair = (arr[left], arr[right])\n",
    "        \n",
    "        if current_sum < 0:\n",
    "            left += 1\n",
    "        else:\n",
    "            right -= 1\n",
    "            \n",
    "    return best_pair\n",
    "\n",
    "# Example usage\n",
    "arr = [1, 60, -10, 70, -80, 85]\n",
    "print(closest_pair_to_zero(arr))  # Output: (-80, 85)\n"
   ]
  },
  {
   "cell_type": "markdown",
   "id": "fe43a3b6-f04d-44ec-85fc-3317d7e8c2df",
   "metadata": {},
   "source": [
    "Problem 6 : Given an array of n elements . Find three elements such that their sum is equal to the given \n",
    "number."
   ]
  },
  {
   "cell_type": "code",
   "execution_count": 8,
   "id": "e767a7dd-2dfc-4d09-b4c6-349d772c3a0c",
   "metadata": {},
   "outputs": [
    {
     "name": "stdout",
     "output_type": "stream",
     "text": [
      "(1, 10, 11)\n"
     ]
    }
   ],
   "source": [
    "def find_triplets_with_sum(arr, target):\n",
    "    arr.sort()\n",
    "    n = len(arr)\n",
    "    for i in range(n - 2):\n",
    "        left, right = i + 1, n - 1\n",
    "        while left < right:\n",
    "            current_sum = arr[i] + arr[left] + arr[right]\n",
    "            if current_sum == target:\n",
    "                return (arr[i], arr[left], arr[right])\n",
    "            elif current_sum < target:\n",
    "                left += 1\n",
    "            else:\n",
    "                right -= 1\n",
    "    return None\n",
    "\n",
    "# Example usage\n",
    "arr = [1, 4, 7, 10, 11]\n",
    "target = 22\n",
    "print(find_triplets_with_sum(arr, target))  # Output: (1, 10, 11)\n"
   ]
  },
  {
   "cell_type": "markdown",
   "id": "5c9417b9-19b9-4543-b896-ed9b1277d226",
   "metadata": {},
   "source": [
    "Problem 7 : Given an array of n elements . Find three elements i, j, k in the array such that\n",
    "\n",
    "i * i + j * j = k*k"
   ]
  },
  {
   "cell_type": "code",
   "execution_count": 9,
   "id": "3fac2414-9d42-434b-809e-2f88c56f7e86",
   "metadata": {},
   "outputs": [
    {
     "name": "stdout",
     "output_type": "stream",
     "text": [
      "(3, 4, 5)\n"
     ]
    }
   ],
   "source": [
    "def find_pythagorean_triplet(arr):\n",
    "    squares = set(x * x for x in arr)\n",
    "    for i in range(len(arr)):\n",
    "        for j in range(i + 1, len(arr)):\n",
    "            if arr[i]**2 + arr[j]**2 in squares:\n",
    "                return (arr[i], arr[j], int((arr[i]**2 + arr[j]**2)**0.5))\n",
    "    return None\n",
    "\n",
    "# Example usage\n",
    "arr = [3, 1, 4, 6, 5]\n",
    "print(find_pythagorean_triplet(arr))  # Output: (3, 4, 5)\n"
   ]
  },
  {
   "cell_type": "markdown",
   "id": "31698b3b-3a66-4598-bf7f-7c501af16f3f",
   "metadata": {},
   "source": [
    "Problem 8 : An element is a majority if it appears more than n/2 times. Give an algorithm takes an array of n \n",
    "element as argument and identifies a majority (if it exists)."
   ]
  },
  {
   "cell_type": "code",
   "execution_count": 10,
   "id": "c1fb3d2e-acc4-41d5-8c22-b322babe7a1e",
   "metadata": {},
   "outputs": [
    {
     "name": "stdout",
     "output_type": "stream",
     "text": [
      "2\n"
     ]
    }
   ],
   "source": [
    "def find_majority_element(arr):\n",
    "    count, candidate = 0, None\n",
    "    for num in arr:\n",
    "        if count == 0:\n",
    "            candidate = num\n",
    "        count += (1 if num == candidate else -1)\n",
    "    \n",
    "    # Verify if the candidate is actually the majority\n",
    "    if arr.count(candidate) > len(arr) // 2:\n",
    "        return candidate\n",
    "    return None\n",
    "\n",
    "# Example usage\n",
    "arr = [1, 2, 3, 2, 2, 2, 2]\n",
    "print(find_majority_element(arr))  # Output: 2\n"
   ]
  },
  {
   "cell_type": "markdown",
   "id": "d87465b7-bd41-4595-a0cb-b2631e525d38",
   "metadata": {},
   "source": [
    "Problem 9 : Given n × n matrix, and in each row all 1’s are followed by 0’s. Find the row with the maximum \n",
    "number of 0’s."
   ]
  },
  {
   "cell_type": "code",
   "execution_count": 11,
   "id": "bfaff6b9-4bd6-4527-b4dd-9a0c018b17b6",
   "metadata": {},
   "outputs": [
    {
     "name": "stdout",
     "output_type": "stream",
     "text": [
      "0\n"
     ]
    }
   ],
   "source": [
    "def row_with_max_zeros(matrix):\n",
    "    max_zeros = -1\n",
    "    row_index = -1\n",
    "    \n",
    "    for i, row in enumerate(matrix):\n",
    "        zero_count = row.count(0)\n",
    "        if zero_count > max_zeros:\n",
    "            max_zeros = zero_count\n",
    "            row_index = i\n",
    "    \n",
    "    return row_index\n",
    "\n",
    "# Example usage\n",
    "matrix = [\n",
    "    [1, 0, 0, 0],\n",
    "    [1, 1, 0, 0],\n",
    "    [1, 1, 1, 0]\n",
    "]\n",
    "print(row_with_max_zeros(matrix))  # Output: 0\n"
   ]
  },
  {
   "cell_type": "markdown",
   "id": "445712aa-9d8a-450d-a29e-5d140b2f7779",
   "metadata": {},
   "source": [
    "Problem 10 : Sort an array of 0’s, 1’s and 2’s [or R’s, G’s and B’s]: Given an array A[] consisting of 0’s, 1’s and \n",
    "2’s, give an algorithm for sorting A[].The algorithm should put all 0’s first, then all 1’s and finally all 2’s at the \n",
    "end. Example Input = {0,1,1,0,1,2,1,2,0,0,0,1}, Output = {0,0,0,0,0,1,1,1,1,1,2,2}"
   ]
  },
  {
   "cell_type": "code",
   "execution_count": 12,
   "id": "b36c335d-5f87-48e3-8eaf-febc0def9cda",
   "metadata": {},
   "outputs": [
    {
     "name": "stdout",
     "output_type": "stream",
     "text": [
      "[0, 0, 0, 1, 1, 1, 2, 2]\n"
     ]
    }
   ],
   "source": [
    "def sort_colors(arr):\n",
    "    low, mid, high = 0, 0, len(arr) - 1\n",
    "    \n",
    "    while mid <= high:\n",
    "        if arr[mid] == 0:\n",
    "            arr[low], arr[mid] = arr[mid], arr[low]\n",
    "            low += 1\n",
    "            mid += 1\n",
    "        elif arr[mid] == 1:\n",
    "            mid += 1\n",
    "        else:\n",
    "            arr[high], arr[mid] = arr[mid], arr[high]\n",
    "            high -= 1\n",
    "    \n",
    "    return arr\n",
    "\n",
    "# Example usage\n",
    "arr = [0, 1, 2, 0, 1, 2, 1, 0]\n",
    "print(sort_colors(arr))  # Output: [0, 0, 0, 1, 1, 1, 2, 2]\n"
   ]
  },
  {
   "cell_type": "code",
   "execution_count": null,
   "id": "ffbcf90d-879d-4a66-86c0-603d6ed66cee",
   "metadata": {},
   "outputs": [],
   "source": []
  }
 ],
 "metadata": {
  "kernelspec": {
   "display_name": "Python 3 (ipykernel)",
   "language": "python",
   "name": "python3"
  },
  "language_info": {
   "codemirror_mode": {
    "name": "ipython",
    "version": 3
   },
   "file_extension": ".py",
   "mimetype": "text/x-python",
   "name": "python",
   "nbconvert_exporter": "python",
   "pygments_lexer": "ipython3",
   "version": "3.11.7"
  }
 },
 "nbformat": 4,
 "nbformat_minor": 5
}
